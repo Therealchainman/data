{
 "cells": [
  {
   "cell_type": "code",
   "execution_count": null,
   "metadata": {},
   "outputs": [],
   "source": [
    "import urllib\n",
    "import polars as pl\n",
    "from zipfile import ZipFile"
   ]
  },
  {
   "cell_type": "code",
   "execution_count": null,
   "metadata": {},
   "outputs": [],
   "source": [
    "url = \"https://www.cs.utah.edu/~lifeifei/research/tpq/NA.cnode\""
   ]
  },
  {
   "cell_type": "code",
   "execution_count": null,
   "metadata": {},
   "outputs": [],
   "source": [
    "na_road_network_df = pl.read_csv(url, has_header = False, sep = ' ')"
   ]
  },
  {
   "cell_type": "code",
   "execution_count": null,
   "metadata": {},
   "outputs": [],
   "source": [
    "len(na_road_network_df)"
   ]
  },
  {
   "cell_type": "code",
   "execution_count": null,
   "metadata": {},
   "outputs": [],
   "source": [
    "na_road_network_df.describe()"
   ]
  },
  {
   "cell_type": "code",
   "execution_count": null,
   "metadata": {},
   "outputs": [],
   "source": [
    "# notice these are normalized, still don't know what that means and how to get them back into normal values for lattitude/longitude\n",
    "na_road_network_df.head()"
   ]
  },
  {
   "cell_type": "code",
   "execution_count": null,
   "metadata": {},
   "outputs": [],
   "source": [
    "len(na_road_network_df)"
   ]
  },
  {
   "cell_type": "code",
   "execution_count": null,
   "metadata": {},
   "outputs": [],
   "source": [
    "cal_nodes_df = pl.read_csv(\"https://www.cs.utah.edu/~lifeifei/research/tpq/cal.cnode\", has_header = False, sep = \" \")\n",
    "cal_edges_df = pl.read_csv(\"https://www.cs.utah.edu/~lifeifei/research/tpq/cal.cedge\", has_header = False, sep = \" \")"
   ]
  },
  {
   "cell_type": "code",
   "execution_count": null,
   "metadata": {},
   "outputs": [],
   "source": [
    "len(cal_nodes_df), len(cal_edges_df)"
   ]
  },
  {
   "cell_type": "code",
   "execution_count": null,
   "metadata": {},
   "outputs": [],
   "source": [
    "cal_nodes_df.head()"
   ]
  },
  {
   "cell_type": "code",
   "execution_count": null,
   "metadata": {},
   "outputs": [],
   "source": [
    "# still don't know unit of the column 4, which is the l2 distance\n",
    "cal_edges_df.head()"
   ]
  },
  {
   "cell_type": "code",
   "execution_count": null,
   "metadata": {},
   "outputs": [],
   "source": [
    "trip_df = pl.read_csv(\"/home/therealchainman/Downloads/gps_data.csv\")\n",
    "road_network_df = pl.read_csv(\"/home/therealchainman/Downloads/road_network.csv\")\n",
    "gt_df = pl.read_csv(\"/home/therealchainman/Downloads/ground_truth_route.csv\")"
   ]
  },
  {
   "cell_type": "code",
   "execution_count": null,
   "metadata": {},
   "outputs": [],
   "source": [
    "trip_df.head()"
   ]
  },
  {
   "cell_type": "code",
   "execution_count": null,
   "metadata": {},
   "outputs": [],
   "source": [
    "len(trip_df)"
   ]
  },
  {
   "cell_type": "code",
   "execution_count": null,
   "metadata": {},
   "outputs": [],
   "source": [
    "trip_df.describe()"
   ]
  },
  {
   "cell_type": "code",
   "execution_count": null,
   "metadata": {},
   "outputs": [],
   "source": [
    "trip_df"
   ]
  },
  {
   "cell_type": "code",
   "execution_count": null,
   "metadata": {},
   "outputs": [],
   "source": [
    "road_network_df"
   ]
  },
  {
   "cell_type": "code",
   "execution_count": null,
   "metadata": {},
   "outputs": [],
   "source": [
    "gt_df"
   ]
  },
  {
   "cell_type": "code",
   "execution_count": null,
   "metadata": {},
   "outputs": [],
   "source": [
    "\n",
    "zip_file = \"/home/therealchainman/Downloads/map-matching-dataset.zip\""
   ]
  },
  {
   "cell_type": "code",
   "execution_count": null,
   "metadata": {},
   "outputs": [],
   "source": [
    "# create empty polars dataframe\n",
    "\"\"\"\n",
    "route table: contains the 0-indexed row number referring to an arc in the arcs table.  Ordered sequence of arcs on which the vehicle traveled.\n",
    "track table: contains the longitude, latitude, and timestamp of each GPS point for a given vehicle trip.\n",
    "nodes table: contains the longitude and latitude of each node in the road network.\n",
    "arcs table: contains the 0-indexed row number of the source node and target node for each arc in the road network.\n",
    "\"\"\"\n",
    "# route_df = pl.DataFrame(columns = ['edge_id', 'id'])\n",
    "# route_df.with_columns([pl.col('edge_id').cast(pl.Int64), pl.col('id').cast(pl.Int64)])\n",
    "# track_df = pl.DataFrame(columns = ['long', 'lat', 'timestamp', 'id'])\n",
    "# track_df.with_column(pl.col('id').cast(pl.Int64))\n",
    "# nodes_df = pl.DataFrame(columns = ['long', 'lat', 'id'])\n",
    "# nodes_df.with_column(pl.col('id').cast(pl.Int64))\n",
    "# arcs_df = pl.DataFrame(columns = ['source_node', 'target_node', 'id'])\n",
    "# arcs_df.with_columns([pl.col('source_node').cast(pl.Int64), pl.col('target_node').cast(pl.Int64), pl.col('id').cast(pl.Int64)])\n",
    "route_df, track_df, nodes_df, arcs_df = pl.DataFrame(), pl.DataFrame(), pl.DataFrame(), pl.DataFrame()\n",
    "for content in ZipFile(zip_file).namelist():\n",
    "    try:\n",
    "        id = int(content.split(\"/\")[0])\n",
    "    except ValueError:\n",
    "        continue\n",
    "    if content.endswith(\".route\"):\n",
    "        cur_df = pl.read_csv(ZipFile(zip_file).read(content), has_header = False, sep = '\\t')\n",
    "        cur_df.columns = ['edge_id']\n",
    "        cur_df = cur_df.with_column(pl.lit(id).alias(\"id\"))\n",
    "        if route_df.is_empty():\n",
    "            route_df = cur_df\n",
    "        else:\n",
    "            route_df.extend(cur_df)\n",
    "    elif content.endswith(\".track\"):\n",
    "        cur_df = pl.read_csv(ZipFile(zip_file).read(content), has_header = False, sep = '\\t')\n",
    "        cur_df.columns = ['long', 'lat', 'timestamp']\n",
    "        cur_df = cur_df.with_column(pl.lit(id).alias(\"id\"))\n",
    "        if track_df.is_empty():\n",
    "            track_df = cur_df\n",
    "        else:\n",
    "            track_df.extend(cur_df)\n",
    "    elif content.endswith(\".nodes\"):\n",
    "        cur_df = pl.read_csv(ZipFile(zip_file).read(content), has_header = False, sep = '\\t')\n",
    "        cur_df.columns = ['long', 'lat']\n",
    "        cur_df = cur_df.with_column(pl.lit(id).alias(\"id\"))\n",
    "        if nodes_df.is_empty():\n",
    "            nodes_df = cur_df\n",
    "        else:\n",
    "            nodes_df.extend(cur_df)\n",
    "    elif content.endswith(\".arcs\"):\n",
    "        cur_df = pl.read_csv(ZipFile(zip_file).read(content), has_header = False, sep = '\\t')\n",
    "        cur_df.columns = ['source_node_id', 'target_node_id']\n",
    "        cur_df = cur_df.with_column(pl.lit(id).alias(\"id\"))\n",
    "        if arcs_df.is_empty():\n",
    "            arcs_df = cur_df\n",
    "        else:\n",
    "            arcs_df.extend(cur_df)"
   ]
  },
  {
   "cell_type": "code",
   "execution_count": null,
   "metadata": {},
   "outputs": [],
   "source": [
    "len(route_df), len(track_df), len(nodes_df), len(arcs_df)"
   ]
  },
  {
   "cell_type": "code",
   "execution_count": null,
   "metadata": {},
   "outputs": [],
   "source": [
    "nodes_df"
   ]
  },
  {
   "cell_type": "code",
   "execution_count": null,
   "metadata": {},
   "outputs": [],
   "source": []
  },
  {
   "cell_type": "code",
   "execution_count": null,
   "metadata": {},
   "outputs": [],
   "source": []
  },
  {
   "cell_type": "code",
   "execution_count": null,
   "metadata": {},
   "outputs": [],
   "source": []
  },
  {
   "cell_type": "code",
   "execution_count": null,
   "metadata": {},
   "outputs": [],
   "source": []
  }
 ],
 "metadata": {
  "kernelspec": {
   "display_name": "programming",
   "language": "python",
   "name": "python3"
  },
  "language_info": {
   "codemirror_mode": {
    "name": "ipython",
    "version": 3
   },
   "file_extension": ".py",
   "mimetype": "text/x-python",
   "name": "python",
   "nbconvert_exporter": "python",
   "pygments_lexer": "ipython3",
   "version": "3.10.0"
  },
  "orig_nbformat": 4,
  "vscode": {
   "interpreter": {
    "hash": "05a440cbc0a4d5663111a9b3b9ea59349399813ac6e64ad16052767f7ba4c947"
   }
  }
 },
 "nbformat": 4,
 "nbformat_minor": 2
}
